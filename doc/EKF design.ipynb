{
 "cells": [
  {
   "cell_type": "markdown",
   "metadata": {},
   "source": [
    "# EKF Implementation\n",
    "\n",
    "The goal of this EKF filter is to measure roll from the boat using the accelerometer and gyrometer.\n",
    "\n",
    "The state contains the following:\n",
    "\n",
    "* Roll\n",
    "* Roll rate"
   ]
  },
  {
   "cell_type": "code",
   "execution_count": 46,
   "metadata": {},
   "outputs": [],
   "source": [
    "import sympy as sp\n",
    "sp.init_printing()\n",
    "import numpy as np\n",
    "import matplotlib.pyplot as plt\n",
    "%matplotlib inline"
   ]
  },
  {
   "cell_type": "code",
   "execution_count": 47,
   "metadata": {},
   "outputs": [],
   "source": [
    "theta, omega = sp.symbols('\\Theta \\omega')\n",
    "state = sp.Matrix([theta, omega])\n",
    "dt = sp.symbols('\\Delta_t')"
   ]
  },
  {
   "cell_type": "markdown",
   "metadata": {},
   "source": [
    "# Prediction step\n",
    "\n",
    "The prediction step assumes constant angular velocity."
   ]
  },
  {
   "cell_type": "code",
   "execution_count": 3,
   "metadata": {},
   "outputs": [
    {
     "data": {
      "image/png": "[encoded data removed]",
      "text/latex": [
       "$$\\left[\\begin{matrix}\\Delta_t \\omega + \\Theta\\\\\\omega\\end{matrix}\\right]$$"
      ],
      "text/plain": [
       "⎡\\Deltaₜ⋅\\omega + \\Theta⎤\n",
       "⎢                       ⎥\n",
       "⎣        \\omega         ⎦"
      ]
     },
     "execution_count": 3,
     "metadata": {},
     "output_type": "execute_result"
    }
   ],
   "source": [
    "dx = sp.Matrix([omega, 0])\n",
    "g = state + dt * dx\n",
    "g"
   ]
  },
  {
   "cell_type": "markdown",
   "metadata": {},
   "source": [
    "# Estimating the variance\n",
    "\n",
    "Basically to find a realistic value for the variance, we will assume that 3 $\\sigma$ contains all the observed samples (> 99% is almost all).\n",
    "Then we can pick a maximum value for the angular acceleration. For example, we could say that the boat will not go faster than from fully upright to on its flank in a second.\n",
    "Assuming it does so at constant acceleration:\n",
    "\n",
    "\\begin{equation}\n",
    "90° = \\frac{1}{2} \\alpha_{max} t^2\n",
    "\\end{equation}\n",
    "\n",
    "Now that we have the maximum acceleration, the maximum error in speed is $3 \\sigma_{\\omega} = \\Delta_t \\alpha_{max}$ and in position it is $3 \\sigma_{\\theta} = \\frac{1}{2} \\alpha_{max} \\Delta_t^2$.\n",
    "\n",
    "Numerically this gives"
   ]
  },
  {
   "cell_type": "code",
   "execution_count": 4,
   "metadata": {},
   "outputs": [
    {
     "name": "stdout",
     "output_type": "stream",
     "text": [
      "Sigma speed: 0.010, position: 0.000052\n"
     ]
    }
   ],
   "source": [
    "FREQUENCY = 100.\n",
    "delta_angle, delta_t = np.radians(90), 1\n",
    "a_max = 2 * delta_angle / (delta_t ** 2)\n",
    "sigma_speed = (a_max / FREQUENCY) / 3\n",
    "sigma_position = (0.5 * a_max / (FREQUENCY**2)) / 3\n",
    "print(\"Sigma speed: {:.3f}, position: {:.6f}\".format(sigma_speed, sigma_position))"
   ]
  },
  {
   "cell_type": "markdown",
   "metadata": {},
   "source": [
    "# Measurement step\n",
    "\n",
    "* The acceleration should be equal to the gravity projected on the estimated rotation\n",
    "* The velocity should be equal to the state velocity"
   ]
  },
  {
   "cell_type": "code",
   "execution_count": 17,
   "metadata": {},
   "outputs": [
    {
     "data": {
      "image/png": "[encoded data removed]",
      "text/latex": [
       "$$\\left[\\begin{matrix}\\omega\\\\9.81 \\cos{\\left (\\Theta \\right )}\\\\9.81 \\sin{\\left (\\Theta \\right )}\\end{matrix}\\right]$$"
      ],
      "text/plain": [
       "⎡     \\omega     ⎤\n",
       "⎢                ⎥\n",
       "⎢9.81⋅cos(\\Theta)⎥\n",
       "⎢                ⎥\n",
       "⎣9.81⋅sin(\\Theta)⎦"
      ]
     },
     "execution_count": 17,
     "metadata": {},
     "output_type": "execute_result"
    }
   ],
   "source": [
    "gravity = 9.81\n",
    "gz = sp.sin(theta) * gravity\n",
    "gy = sp.cos(theta) * gravity\n",
    "h = sp.Matrix([omega, gy, gz])\n",
    "h"
   ]
  },
  {
   "cell_type": "markdown",
   "metadata": {},
   "source": [
    "## Estimating the variance of the measurements\n",
    "\n",
    "For the gyrometer it is (should be) easy.\n",
    "We can directly take the RMS value in the datasheet and use it as the standard deviation."
   ]
  },
  {
   "cell_type": "code",
   "execution_count": 18,
   "metadata": {},
   "outputs": [],
   "source": [
    "sigma_gyro = 8e-3 * 9.81 # at 94 hz (MPU9250 datasheet, p. 9)"
   ]
  },
  {
   "cell_type": "markdown",
   "metadata": {},
   "source": [
    "For the accelerometer though, we need to take into account the centrifugal acceleration that the boat will have.\n",
    "To compute those I took the case of a boat circling on a 5 meter radius at a speed of 10 m/s (generous) and took this as my maximum. We know that the acceleration is given by $V^2/R$, which is:"
   ]
  },
  {
   "cell_type": "code",
   "execution_count": 252,
   "metadata": {},
   "outputs": [
    {
     "name": "stdout",
     "output_type": "stream",
     "text": [
      "acceleration is 2.500000/s/s\n",
      "Simga on horizontal acceleration is 0.833 m/s/s\n"
     ]
    }
   ],
   "source": [
    "V = 5\n",
    "R = 10\n",
    "a = V**2/R\n",
    "sigma_acceleration_x = a / 3\n",
    "print(\"acceleration is {:3f}/s/s\".format(a))\n",
    "print(\"Simga on horizontal acceleration is {:.3f} m/s/s\".format(sigma_acceleration_x))"
   ]
  },
  {
   "cell_type": "markdown",
   "metadata": {},
   "source": [
    "For the vertical acceleration we will also have some noise. I will assume that the worst case is a free fall, meaning $3 \\sigma = 9.81$, therefore:"
   ]
  },
  {
   "cell_type": "code",
   "execution_count": 253,
   "metadata": {},
   "outputs": [],
   "source": [
    "sigma_acceleration_y = 0.981 / 3"
   ]
  },
  {
   "cell_type": "markdown",
   "metadata": {},
   "source": [
    "# Turning it into a kalman filter"
   ]
  },
  {
   "cell_type": "code",
   "execution_count": 254,
   "metadata": {},
   "outputs": [
    {
     "data": {
      "image/png": "[encoded data removed]",
      "text/latex": [
       "$$\\left[\\begin{matrix}1 & \\Delta_t\\\\0 & 1\\end{matrix}\\right]$$"
      ],
      "text/plain": [
       "⎡1  \\Deltaₜ⎤\n",
       "⎢          ⎥\n",
       "⎣0     1   ⎦"
      ]
     },
     "execution_count": 254,
     "metadata": {},
     "output_type": "execute_result"
    }
   ],
   "source": [
    "g.jacobian(state)"
   ]
  },
  {
   "cell_type": "code",
   "execution_count": 255,
   "metadata": {},
   "outputs": [
    {
     "data": {
      "image/png": "[encoded data removed]",
      "text/latex": [
       "$$\\left[\\begin{matrix}0 & 1\\\\- 9.81 \\sin{\\left (\\Theta \\right )} & 0\\\\9.81 \\cos{\\left (\\Theta \\right )} & 0\\end{matrix}\\right]$$"
      ],
      "text/plain": [
       "⎡        0          1⎤\n",
       "⎢                    ⎥\n",
       "⎢-9.81⋅sin(\\Theta)  0⎥\n",
       "⎢                    ⎥\n",
       "⎣9.81⋅cos(\\Theta)   0⎦"
      ]
     },
     "execution_count": 255,
     "metadata": {},
     "output_type": "execute_result"
    }
   ],
   "source": [
    "h.jacobian(state)"
   ]
  },
  {
   "cell_type": "code",
   "execution_count": 256,
   "metadata": {},
   "outputs": [
    {
     "data": {
      "image/png": "[encoded data removed]",
      "text/latex": [
       "$$\\left[\\begin{matrix}\\Theta\\\\\\omega\\end{matrix}\\right]$$"
      ],
      "text/plain": [
       "⎡\\Theta⎤\n",
       "⎢      ⎥\n",
       "⎣\\omega⎦"
      ]
     },
     "execution_count": 256,
     "metadata": {},
     "output_type": "execute_result"
    }
   ],
   "source": [
    "state"
   ]
  },
  {
   "cell_type": "code",
   "execution_count": 262,
   "metadata": {},
   "outputs": [],
   "source": [
    "import ekf\n",
    "u = [] # no control input\n",
    "g_num = sp.lambdify([state, u], g.replace(dt, 1/FREQUENCY), 'numpy')\n",
    "G_num = sp.lambdify([state, u], g.jacobian(state).replace(dt, 1/FREQUENCY), 'numpy')\n",
    "h_num = sp.lambdify([state], h, 'numpy')\n",
    "H_num = sp.lambdify([state], h.jacobian(state), 'numpy')\n",
    "\n",
    "R = np.diag([sigma_position**2, sigma_speed**2])\n",
    "Q = np.array([[sigma_gyro**2, sigma_acceleration_x**2, sigma_acceleration_y**2]])\n",
    "\n",
    "predictor = ekf.Predictor(g_num, G_num, R)\n",
    "corrector = ekf.Corrector(h_num, H_num, Q)"
   ]
  },
  {
   "cell_type": "markdown",
   "metadata": {},
   "source": [
    "# Simulation\n",
    "\n",
    "For the first simulation, we can simply put it on a sine wave."
   ]
  },
  {
   "cell_type": "code",
   "execution_count": 263,
   "metadata": {},
   "outputs": [],
   "source": [
    "boat_frequency = 1 / 5\n",
    "boat_amplitude = np.radians(10)\n",
    "traj_theta = lambda t: boat_amplitude * np.sin(boat_frequency * np.pi * t)\n",
    "traj_omega = lambda t: boat_amplitude * np.cos(boat_frequency * np.pi * t)\n",
    "\n",
    "def trajectory(duration):\n",
    "    t = 0.\n",
    "    while t < duration:\n",
    "        yield traj_theta(t), traj_omega(t)\n",
    "        t += 1 / FREQUENCY"
   ]
  },
  {
   "cell_type": "code",
   "execution_count": 264,
   "metadata": {},
   "outputs": [],
   "source": [
    "def simulate():\n",
    "    state_history = []\n",
    "    truth_history = []\n",
    "    state = np.array([0, 0])\n",
    "    covar = np.array([0.1, 0.1])\n",
    "    for theta, omega in trajectory(10.):\n",
    "        state, covar = predictor(state, covar, [])\n",
    "        noise = np.random.normal(scale=[sigma_gyro**2, sigma_acceleration_x**2, sigma_acceleration_y**2], size=(1, 3))\n",
    "        noise = noise.transpose()\n",
    "        measurement = h_num([np.array([theta, omega])]) + noise\n",
    "        state, covar = corrector(state, covar, measurement)\n",
    "        state_history.append(state)\n",
    "        truth_history.append([theta, omega])\n",
    "    return state_history, truth_history"
   ]
  },
  {
   "cell_type": "code",
   "execution_count": 265,
   "metadata": {},
   "outputs": [],
   "source": [
    "estimation, truth = simulate()"
   ]
  },
  {
   "cell_type": "code",
   "execution_count": 266,
   "metadata": {},
   "outputs": [
    {
     "data": {
      "image/png": "[encoded data removed]",
      "text/plain": [
       "<Figure size 432x288 with 1 Axes>"
      ]
     },
     "metadata": {},
     "output_type": "display_data"
    }
   ],
   "source": [
    "plt.plot([s[0] for s in estimation])\n",
    "plt.plot([s[0] for s in truth])\n",
    "plt.legend(['EKF', 'Truth'])\n",
    "plt.show()"
   ]
  }
 ],
 "metadata": {
  "kernelspec": {
   "display_name": "Python 3",
   "language": "python",
   "name": "python3"
  },
  "language_info": {
   "codemirror_mode": {
    "name": "ipython",
    "version": 3
   },
   "file_extension": ".py",
   "mimetype": "text/x-python",
   "name": "python",
   "nbconvert_exporter": "python",
   "pygments_lexer": "ipython3",
   "version": "3.6.4"
  }
 },
 "nbformat": 4,
 "nbformat_minor": 2
}
